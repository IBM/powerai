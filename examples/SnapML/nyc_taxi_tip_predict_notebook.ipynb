{
 "cells": [
  {
   "cell_type": "markdown",
   "metadata": {},
   "source": [
    "```\n",
    "Copyright 2019, 2020. IBM All Rights Reserved.\n",
    "```\n",
    "\n",
    "```\n",
    "Licensed under the Apache License, Version 2.0 (the \"License\");\n",
    "you may not use this file except in compliance with the License.\n",
    "You may obtain a copy of the License at\n",
    "\n",
    "     http://www.apache.org/licenses/LICENSE-2.0\n",
    "\n",
    "Unless required by applicable law or agreed to in writing, software\n",
    "distributed under the License is distributed on an \"AS IS\" BASIS,\n",
    "WITHOUT WARRANTIES OR CONDITIONS OF ANY KIND, either express or implied.\n",
    "See the License for the specific language governing permissions and\n",
    "limitations under the License.\n",
    "```"
   ]
  },
  {
   "cell_type": "markdown",
   "metadata": {},
   "source": [
    "# NYC Taxi Tip prediction (Ridge and Logistic Regression) using Snap ML\n",
    "<div class=\"alert alert-block alert-info\">\n",
    "    <b>Snap ML</b> is packaged with <b>IBM® Watson™ Machine Learning Community Edition (WML CE)</b> in a conda package <b>pai4sk</b>.\n",
    "</div>"
   ]
  },
  {
   "cell_type": "markdown",
   "metadata": {},
   "source": [
    "### Taxi Tip prediction\n",
    "In this example we will train a Ridge Regression model to predict the amount of tip paid. We also train a Logistic Regression model to predict if the user will pay less or greater than the median tip amount.<br/>\n",
    "We will train the models using <b>scikit-learn</b>, <b>RAPIDS cuML</b> and <b>SnapML</b>, and compare the results.\n",
    "\n",
    "### Data source\n",
    "Dataset used for this notebook is downloaded from https://www1.nyc.gov/site/tlc/about/tlc-trip-record-data.page with all rights reserved by Taxi & Limousine Commission(TLC), City of New York.\n",
    "\n",
    "TLC Yellow Taxi Trip Records of June, 2019 is used in this notebook.\n",
    "\n",
    "### Conda packages used for this notebook \n",
    "- `pai4sk       1.6.0   (Package for IBM Snap ML, provided in WML CE 1.7.0)`\n",
    "- `cuml         0.11.0  (Package for RAPIDS cuML, provided in WML CE 1.7.0)`\n",
    "- `scikit-learn 0.22.1  (Package for sklearn)`\n",
    "- `dask         2.9.2   (Used here for distributed loading and feature engineering)`\n",
    "- `dask-ml      1.1.1   (Used here for distributed pre-processing)`\n",
    "- `seaborn      0.9.0   (Used for Visualization)`\n",
    "\n",
    "### System Configuration \n",
    "\n",
    "|Configuration Parameter |\tValue                         |\n",
    "|:-----------------------|:-------------------------------|       \n",
    "| **Machine** \t         | IBM Power9 AC922               |\n",
    "| **CPU cores:**         | 40 (22 cores per socket)       |\n",
    "| **Thread(s) per core:**| 4                              |\n",
    "| **GPU** \t             | NVIDIA Tesla V100 SXM2 32GB    |\n"
   ]
  },
  {
   "cell_type": "code",
   "execution_count": 1,
   "metadata": {},
   "outputs": [],
   "source": [
    "import dask.dataframe as dpd\n",
    "import glob\n",
    "import numpy as np\n",
    "import time\n",
    "from sklearn.metrics import mean_squared_error, r2_score, accuracy_score\n",
    "import warnings\n",
    "warnings.filterwarnings('ignore')"
   ]
  },
  {
   "cell_type": "markdown",
   "metadata": {},
   "source": [
    "## A. Load one month yellow taxi data (Using dask dataframe for multi-core parallel processing)"
   ]
  },
  {
   "cell_type": "code",
   "execution_count": 2,
   "metadata": {},
   "outputs": [
    {
     "name": "stdout",
     "output_type": "stream",
     "text": [
      "File ‘yellow_tripdata_2019-06.csv’ already there; not retrieving.\r\n",
      "\r\n"
     ]
    }
   ],
   "source": [
    "#Download June 2019 TLC Yellow Taxi Trip records used in this notebook\n",
    "!wget -nc https://s3.amazonaws.com/nyc-tlc/trip+data/yellow_tripdata_2019-06.csv"
   ]
  },
  {
   "cell_type": "code",
   "execution_count": 3,
   "metadata": {},
   "outputs": [],
   "source": [
    "ddf = dpd.read_csv('./yellow_tripdata_2019-06.csv',\n",
    "                    parse_dates=['tpep_pickup_datetime', 'tpep_dropoff_datetime'])"
   ]
  },
  {
   "cell_type": "code",
   "execution_count": 4,
   "metadata": {},
   "outputs": [
    {
     "data": {
      "text/html": [
       "<div>\n",
       "<style scoped>\n",
       "    .dataframe tbody tr th:only-of-type {\n",
       "        vertical-align: middle;\n",
       "    }\n",
       "\n",
       "    .dataframe tbody tr th {\n",
       "        vertical-align: top;\n",
       "    }\n",
       "\n",
       "    .dataframe thead th {\n",
       "        text-align: right;\n",
       "    }\n",
       "</style>\n",
       "<table border=\"1\" class=\"dataframe\">\n",
       "  <thead>\n",
       "    <tr style=\"text-align: right;\">\n",
       "      <th></th>\n",
       "      <th>VendorID</th>\n",
       "      <th>tpep_pickup_datetime</th>\n",
       "      <th>tpep_dropoff_datetime</th>\n",
       "      <th>passenger_count</th>\n",
       "      <th>trip_distance</th>\n",
       "      <th>RatecodeID</th>\n",
       "      <th>store_and_fwd_flag</th>\n",
       "      <th>PULocationID</th>\n",
       "      <th>DOLocationID</th>\n",
       "      <th>payment_type</th>\n",
       "      <th>fare_amount</th>\n",
       "      <th>extra</th>\n",
       "      <th>mta_tax</th>\n",
       "      <th>tip_amount</th>\n",
       "      <th>tolls_amount</th>\n",
       "      <th>improvement_surcharge</th>\n",
       "      <th>total_amount</th>\n",
       "      <th>congestion_surcharge</th>\n",
       "    </tr>\n",
       "  </thead>\n",
       "  <tbody>\n",
       "    <tr>\n",
       "      <th>0</th>\n",
       "      <td>1</td>\n",
       "      <td>2019-06-01 00:55:13</td>\n",
       "      <td>2019-06-01 00:56:17</td>\n",
       "      <td>1</td>\n",
       "      <td>0.0</td>\n",
       "      <td>1</td>\n",
       "      <td>N</td>\n",
       "      <td>145</td>\n",
       "      <td>145</td>\n",
       "      <td>2</td>\n",
       "      <td>3.0</td>\n",
       "      <td>0.5</td>\n",
       "      <td>0.5</td>\n",
       "      <td>0.00</td>\n",
       "      <td>0.0</td>\n",
       "      <td>0.3</td>\n",
       "      <td>4.30</td>\n",
       "      <td>0.0</td>\n",
       "    </tr>\n",
       "    <tr>\n",
       "      <th>1</th>\n",
       "      <td>1</td>\n",
       "      <td>2019-06-01 00:06:31</td>\n",
       "      <td>2019-06-01 00:06:52</td>\n",
       "      <td>1</td>\n",
       "      <td>0.0</td>\n",
       "      <td>1</td>\n",
       "      <td>N</td>\n",
       "      <td>262</td>\n",
       "      <td>263</td>\n",
       "      <td>2</td>\n",
       "      <td>2.5</td>\n",
       "      <td>3.0</td>\n",
       "      <td>0.5</td>\n",
       "      <td>0.00</td>\n",
       "      <td>0.0</td>\n",
       "      <td>0.3</td>\n",
       "      <td>6.30</td>\n",
       "      <td>2.5</td>\n",
       "    </tr>\n",
       "    <tr>\n",
       "      <th>2</th>\n",
       "      <td>1</td>\n",
       "      <td>2019-06-01 00:17:05</td>\n",
       "      <td>2019-06-01 00:36:38</td>\n",
       "      <td>1</td>\n",
       "      <td>4.4</td>\n",
       "      <td>1</td>\n",
       "      <td>N</td>\n",
       "      <td>74</td>\n",
       "      <td>7</td>\n",
       "      <td>2</td>\n",
       "      <td>17.5</td>\n",
       "      <td>0.5</td>\n",
       "      <td>0.5</td>\n",
       "      <td>0.00</td>\n",
       "      <td>0.0</td>\n",
       "      <td>0.3</td>\n",
       "      <td>18.80</td>\n",
       "      <td>0.0</td>\n",
       "    </tr>\n",
       "    <tr>\n",
       "      <th>3</th>\n",
       "      <td>1</td>\n",
       "      <td>2019-06-01 00:59:02</td>\n",
       "      <td>2019-06-01 00:59:12</td>\n",
       "      <td>0</td>\n",
       "      <td>0.8</td>\n",
       "      <td>1</td>\n",
       "      <td>N</td>\n",
       "      <td>145</td>\n",
       "      <td>145</td>\n",
       "      <td>2</td>\n",
       "      <td>2.5</td>\n",
       "      <td>1.0</td>\n",
       "      <td>0.5</td>\n",
       "      <td>0.00</td>\n",
       "      <td>0.0</td>\n",
       "      <td>0.3</td>\n",
       "      <td>4.30</td>\n",
       "      <td>0.0</td>\n",
       "    </tr>\n",
       "    <tr>\n",
       "      <th>4</th>\n",
       "      <td>1</td>\n",
       "      <td>2019-06-01 00:03:25</td>\n",
       "      <td>2019-06-01 00:15:42</td>\n",
       "      <td>1</td>\n",
       "      <td>1.7</td>\n",
       "      <td>1</td>\n",
       "      <td>N</td>\n",
       "      <td>113</td>\n",
       "      <td>148</td>\n",
       "      <td>1</td>\n",
       "      <td>9.5</td>\n",
       "      <td>3.0</td>\n",
       "      <td>0.5</td>\n",
       "      <td>2.65</td>\n",
       "      <td>0.0</td>\n",
       "      <td>0.3</td>\n",
       "      <td>15.95</td>\n",
       "      <td>2.5</td>\n",
       "    </tr>\n",
       "  </tbody>\n",
       "</table>\n",
       "</div>"
      ],
      "text/plain": [
       "   VendorID tpep_pickup_datetime tpep_dropoff_datetime  passenger_count  \\\n",
       "0         1  2019-06-01 00:55:13   2019-06-01 00:56:17                1   \n",
       "1         1  2019-06-01 00:06:31   2019-06-01 00:06:52                1   \n",
       "2         1  2019-06-01 00:17:05   2019-06-01 00:36:38                1   \n",
       "3         1  2019-06-01 00:59:02   2019-06-01 00:59:12                0   \n",
       "4         1  2019-06-01 00:03:25   2019-06-01 00:15:42                1   \n",
       "\n",
       "   trip_distance  RatecodeID store_and_fwd_flag  PULocationID  DOLocationID  \\\n",
       "0            0.0           1                  N           145           145   \n",
       "1            0.0           1                  N           262           263   \n",
       "2            4.4           1                  N            74             7   \n",
       "3            0.8           1                  N           145           145   \n",
       "4            1.7           1                  N           113           148   \n",
       "\n",
       "   payment_type  fare_amount  extra  mta_tax  tip_amount  tolls_amount  \\\n",
       "0             2          3.0    0.5      0.5        0.00           0.0   \n",
       "1             2          2.5    3.0      0.5        0.00           0.0   \n",
       "2             2         17.5    0.5      0.5        0.00           0.0   \n",
       "3             2          2.5    1.0      0.5        0.00           0.0   \n",
       "4             1          9.5    3.0      0.5        2.65           0.0   \n",
       "\n",
       "   improvement_surcharge  total_amount  congestion_surcharge  \n",
       "0                    0.3          4.30                   0.0  \n",
       "1                    0.3          6.30                   2.5  \n",
       "2                    0.3         18.80                   0.0  \n",
       "3                    0.3          4.30                   0.0  \n",
       "4                    0.3         15.95                   2.5  "
      ]
     },
     "execution_count": 4,
     "metadata": {},
     "output_type": "execute_result"
    }
   ],
   "source": [
    "ddf.head()"
   ]
  },
  {
   "cell_type": "markdown",
   "metadata": {},
   "source": [
    "The yellow taxi trip records include fields capturing pick-up and drop-off dates/times, pick-up and drop-off locations, trip distances, itemized fares, rate types, payment types, and driver-reported passenger counts."
   ]
  },
  {
   "cell_type": "markdown",
   "metadata": {},
   "source": [
    "### Persist dask dataframe into memory (to avoid reloading from disk)"
   ]
  },
  {
   "cell_type": "code",
   "execution_count": 5,
   "metadata": {},
   "outputs": [],
   "source": [
    "ddf = ddf.persist()"
   ]
  },
  {
   "cell_type": "code",
   "execution_count": 6,
   "metadata": {},
   "outputs": [
    {
     "name": "stdout",
     "output_type": "stream",
     "text": [
      "The dataset has 6941024 rows and 18 columns.\n"
     ]
    }
   ],
   "source": [
    "print('The dataset has',ddf.shape[0].compute(),'rows and',ddf.shape[1],'columns.')"
   ]
  },
  {
   "cell_type": "markdown",
   "metadata": {},
   "source": [
    "## B. Cleaning the dataset"
   ]
  },
  {
   "cell_type": "markdown",
   "metadata": {},
   "source": [
    "### 1. Drop trips with zero (or negative) tip_amount\n",
    "As per the data dictionary of this dataset, tip_amount column does not include cash tips. So, we'll assume all the rows with 0 in tip_amount were tips paid in cash and drop all such rows!"
   ]
  },
  {
   "cell_type": "code",
   "execution_count": 7,
   "metadata": {},
   "outputs": [],
   "source": [
    "filter_out_cash_tips = (ddf['tip_amount'] > 0)"
   ]
  },
  {
   "cell_type": "code",
   "execution_count": 8,
   "metadata": {},
   "outputs": [
    {
     "data": {
      "text/plain": [
       "True     4783107\n",
       "False    2157917\n",
       "Name: tip_amount, dtype: int64"
      ]
     },
     "execution_count": 8,
     "metadata": {},
     "output_type": "execute_result"
    }
   ],
   "source": [
    "filter_out_cash_tips.compute().value_counts()"
   ]
  },
  {
   "cell_type": "code",
   "execution_count": 9,
   "metadata": {},
   "outputs": [],
   "source": [
    "#Retain only rows with tip amount greater than zero\n",
    "ddf = ddf[filter_out_cash_tips]"
   ]
  },
  {
   "cell_type": "markdown",
   "metadata": {},
   "source": [
    "### 2. Keep only trips with tip amount <= the fare amount"
   ]
  },
  {
   "cell_type": "code",
   "execution_count": 10,
   "metadata": {},
   "outputs": [],
   "source": [
    "filter_out_big_tips = (ddf['tip_amount'] <= ddf['fare_amount'])"
   ]
  },
  {
   "cell_type": "code",
   "execution_count": 11,
   "metadata": {},
   "outputs": [
    {
     "data": {
      "text/plain": [
       "True     4776619\n",
       "False       6488\n",
       "dtype: int64"
      ]
     },
     "execution_count": 11,
     "metadata": {},
     "output_type": "execute_result"
    }
   ],
   "source": [
    "filter_out_big_tips.compute().value_counts()"
   ]
  },
  {
   "cell_type": "code",
   "execution_count": 12,
   "metadata": {},
   "outputs": [],
   "source": [
    "ddf = ddf[filter_out_big_tips]"
   ]
  },
  {
   "cell_type": "markdown",
   "metadata": {},
   "source": [
    "### 3. Remove trips with extreme fare amounts\n",
    "Keep trips with fare >= the minimum amount 2 dollars and keep trips with fare amount less than 200 dollars"
   ]
  },
  {
   "cell_type": "code",
   "execution_count": 13,
   "metadata": {},
   "outputs": [],
   "source": [
    "filter_out_extreme_fare = ((ddf['fare_amount'] >= 2) & (ddf['fare_amount'] < 200))"
   ]
  },
  {
   "cell_type": "code",
   "execution_count": 14,
   "metadata": {},
   "outputs": [
    {
     "data": {
      "text/plain": [
       "True     4776058\n",
       "False        561\n",
       "Name: fare_amount, dtype: int64"
      ]
     },
     "execution_count": 14,
     "metadata": {},
     "output_type": "execute_result"
    }
   ],
   "source": [
    "filter_out_extreme_fare.compute().value_counts()"
   ]
  },
  {
   "cell_type": "code",
   "execution_count": 15,
   "metadata": {},
   "outputs": [],
   "source": [
    "ddf = ddf[filter_out_extreme_fare]"
   ]
  },
  {
   "cell_type": "markdown",
   "metadata": {},
   "source": [
    "### 4. Drop total_amount charged to passengers (it also includes the tip_amount)"
   ]
  },
  {
   "cell_type": "code",
   "execution_count": 16,
   "metadata": {},
   "outputs": [],
   "source": [
    "ddf = ddf.drop(['total_amount'], axis=1)"
   ]
  },
  {
   "cell_type": "markdown",
   "metadata": {},
   "source": [
    "## C. Visualise the tip_amount distribution"
   ]
  },
  {
   "cell_type": "code",
   "execution_count": 17,
   "metadata": {},
   "outputs": [
    {
     "data": {
      "text/plain": [
       "<matplotlib.axes._subplots.AxesSubplot at 0x7ff9f2a9be48>"
      ]
     },
     "execution_count": 17,
     "metadata": {},
     "output_type": "execute_result"
    },
    {
     "data": {
      "image/png": "[encoded data removed]",
      "text/plain": [
       "<Figure size 432x288 with 1 Axes>"
      ]
     },
     "metadata": {
      "needs_background": "light"
     },
     "output_type": "display_data"
    }
   ],
   "source": [
    "import seaborn as sns\n",
    "sns.distplot(ddf['tip_amount'])"
   ]
  },
  {
   "cell_type": "markdown",
   "metadata": {},
   "source": [
    "#### Print the dataset shape before preprocessing"
   ]
  },
  {
   "cell_type": "code",
   "execution_count": 18,
   "metadata": {},
   "outputs": [
    {
     "name": "stdout",
     "output_type": "stream",
     "text": [
      "The dataset has 4776058 rows and 17 columns.\n"
     ]
    }
   ],
   "source": [
    "print('The dataset has',ddf.shape[0].compute(),'rows and',ddf.shape[1],'columns.')"
   ]
  },
  {
   "cell_type": "markdown",
   "metadata": {},
   "source": [
    "## D. Data Preprocessing"
   ]
  },
  {
   "cell_type": "markdown",
   "metadata": {},
   "source": [
    "### Create derived features"
   ]
  },
  {
   "cell_type": "code",
   "execution_count": 19,
   "metadata": {
    "scrolled": true
   },
   "outputs": [],
   "source": [
    "#calculate trip time in minutes\n",
    "trip_time = ddf['tpep_dropoff_datetime'] - ddf['tpep_pickup_datetime']\n",
    "ddf['trip_time'] = trip_time.astype('timedelta64[m]')"
   ]
  },
  {
   "cell_type": "code",
   "execution_count": 20,
   "metadata": {},
   "outputs": [],
   "source": [
    "#extract pickup and dropoff hour\n",
    "ddf['pickup_hour'] = ddf['tpep_pickup_datetime'].dt.hour\n",
    "ddf['dropoff_hour'] = ddf['tpep_dropoff_datetime'].dt.hour"
   ]
  },
  {
   "cell_type": "code",
   "execution_count": 21,
   "metadata": {},
   "outputs": [],
   "source": [
    "#extract pickup and dropoff day of week\n",
    "ddf['pickup_day'] = ddf['tpep_pickup_datetime'].dt.weekday_name\n",
    "ddf['dropoff_day'] = ddf['tpep_dropoff_datetime'].dt.weekday_name"
   ]
  },
  {
   "cell_type": "code",
   "execution_count": 22,
   "metadata": {},
   "outputs": [],
   "source": [
    "#Now that we have extracted required derived features from the pickup and dropoff datetime, drop them \n",
    "ddf = ddf.drop(['tpep_pickup_datetime', 'tpep_dropoff_datetime'], axis=1)"
   ]
  },
  {
   "cell_type": "markdown",
   "metadata": {},
   "source": [
    "### One Hot encoding"
   ]
  },
  {
   "cell_type": "code",
   "execution_count": 23,
   "metadata": {},
   "outputs": [],
   "source": [
    "get_dummy_col = [\"VendorID\",\"RatecodeID\",\"store_and_fwd_flag\",\"PULocationID\", \"DOLocationID\",\"payment_type\", \"pickup_hour\", \"dropoff_hour\", \"pickup_day\", \"dropoff_day\"]\n",
    "ddf = ddf.categorize(columns=get_dummy_col)"
   ]
  },
  {
   "cell_type": "code",
   "execution_count": 24,
   "metadata": {},
   "outputs": [],
   "source": [
    "ddf = dpd.get_dummies(ddf, columns = get_dummy_col)"
   ]
  },
  {
   "cell_type": "markdown",
   "metadata": {},
   "source": [
    "### Use tip_amount as the target label for training"
   ]
  },
  {
   "cell_type": "code",
   "execution_count": 25,
   "metadata": {},
   "outputs": [],
   "source": [
    "label = ddf[['tip_amount']].compute()\n",
    "ddf = ddf.drop(['tip_amount'], axis=1)"
   ]
  },
  {
   "cell_type": "markdown",
   "metadata": {},
   "source": [
    "### Transform features and then normalize values"
   ]
  },
  {
   "cell_type": "code",
   "execution_count": 26,
   "metadata": {},
   "outputs": [],
   "source": [
    "from dask_ml.preprocessing import MinMaxScaler\n",
    "\n",
    "min_max_scaler = MinMaxScaler()\n",
    "X = min_max_scaler.fit_transform(ddf)"
   ]
  },
  {
   "cell_type": "code",
   "execution_count": 27,
   "metadata": {},
   "outputs": [],
   "source": [
    "# Convert Dask dataframe to Numpy array \n",
    "X = X.to_dask_array().compute()"
   ]
  },
  {
   "cell_type": "code",
   "execution_count": 28,
   "metadata": {},
   "outputs": [],
   "source": [
    "from pai4sk.preprocessing import normalize\n",
    "\n",
    "X = normalize(X, axis=1, norm='l1')"
   ]
  },
  {
   "cell_type": "markdown",
   "metadata": {},
   "source": [
    "### Convert data to float32 data-type"
   ]
  },
  {
   "cell_type": "code",
   "execution_count": 29,
   "metadata": {},
   "outputs": [],
   "source": [
    "X = X.astype('float32')\n",
    "y = label.values.astype('float32')"
   ]
  },
  {
   "cell_type": "code",
   "execution_count": 30,
   "metadata": {},
   "outputs": [
    {
     "name": "stdout",
     "output_type": "stream",
     "text": [
      "X is of type : ndarray and y is of type : ndarray\n"
     ]
    }
   ],
   "source": [
    "print('X is of type :', X.__class__.__name__, 'and y is of type :', y.__class__.__name__)"
   ]
  },
  {
   "cell_type": "markdown",
   "metadata": {},
   "source": [
    "## E. Split data into train and test sets\n",
    "<div class=\"alert alert-block alert-warning\">\n",
    "It would have been preferable to use 80% of the data for training, but cuML fails with \"out of memory\" error if trained with that size of data. Switched to using 60% of data for training to not hit cuML OOM error.\n",
    "<br/>\n",
    "<b>Snap ML is capable of training with any amount of large data, even when using a single GPU!</b>\n",
    "</div>"
   ]
  },
  {
   "cell_type": "code",
   "execution_count": 31,
   "metadata": {},
   "outputs": [],
   "source": [
    "from pai4sk.model_selection import train_test_split\n",
    "X_train, X_test, y_train, y_test = train_test_split(X, y, test_size=0.4, random_state=17)"
   ]
  },
  {
   "cell_type": "code",
   "execution_count": 32,
   "metadata": {},
   "outputs": [
    {
     "name": "stdout",
     "output_type": "stream",
     "text": [
      "The train data has 2865634 rows and 606 columns.\n",
      "The test data has 1910424 rows and 606 columns.\n"
     ]
    }
   ],
   "source": [
    "print('The train data has',X_train.shape[0],'rows and',X_train.shape[1],'columns.')\n",
    "print('The test data has',X_test.shape[0],'rows and',X_test.shape[1],'columns.')"
   ]
  },
  {
   "cell_type": "markdown",
   "metadata": {},
   "source": [
    "## F. Create Binary labels for Logistic Regression"
   ]
  },
  {
   "cell_type": "code",
   "execution_count": 33,
   "metadata": {},
   "outputs": [
    {
     "name": "stdout",
     "output_type": "stream",
     "text": [
      "2.46\n"
     ]
    }
   ],
   "source": [
    "y_median = np.median(y_train)\n",
    "print(y_median)"
   ]
  },
  {
   "cell_type": "code",
   "execution_count": 34,
   "metadata": {},
   "outputs": [],
   "source": [
    "# Binarize the labels based on if the tip amount is less or more than the median tip\n",
    "y_train_bin = np.array(y_train)\n",
    "for i in range(y_train.shape[0]):\n",
    "    y_train_bin[i] = 1.0 if y_train[i] > y_median else 0.0\n",
    "    \n",
    "y_test_bin = np.array(y_test)\n",
    "for i in range(y_test.shape[0]):\n",
    "    y_test_bin[i] = 1.0 if y_test[i] > y_median else 0.0"
   ]
  },
  {
   "cell_type": "markdown",
   "metadata": {},
   "source": [
    "## G. Use Optimized data formats for each framework"
   ]
  },
  {
   "cell_type": "markdown",
   "metadata": {},
   "source": [
    "### Compute the sparsity of the dataset"
   ]
  },
  {
   "cell_type": "code",
   "execution_count": 35,
   "metadata": {},
   "outputs": [
    {
     "name": "stdout",
     "output_type": "stream",
     "text": [
      "The train dataset is 97.032121 percent sparse \n"
     ]
    }
   ],
   "source": [
    "from numpy import count_nonzero\n",
    "sparsity = 1.0 - (count_nonzero(X_train) / float(X_train.shape[0]*X_train.shape[1]) )\n",
    "print(\"The train dataset is %f percent sparse \" % (sparsity*100))\n"
   ]
  },
  {
   "cell_type": "markdown",
   "metadata": {},
   "source": [
    "### Since this dataset is sparse, convert it to scipy sparse csr_matrix.<br/>Snap ML employs optimizations for the algorithms when applied to sparse data structures."
   ]
  },
  {
   "cell_type": "code",
   "execution_count": 36,
   "metadata": {},
   "outputs": [],
   "source": [
    "from scipy import sparse\n",
    "X_train_csr = sparse.csr_matrix(X_train)\n",
    "X_test_csr = sparse.csr_matrix(X_test)"
   ]
  },
  {
   "cell_type": "markdown",
   "metadata": {},
   "source": [
    "### cuML does not have support for sparse dataset.<br/>Convert array to column-major (i.e. Fortran order) for faster training of cuML"
   ]
  },
  {
   "cell_type": "code",
   "execution_count": 37,
   "metadata": {},
   "outputs": [],
   "source": [
    "X_train_col_major = np.asfortranarray(X_train)\n",
    "X_test_col_major = np.asfortranarray(X_test)"
   ]
  },
  {
   "cell_type": "markdown",
   "metadata": {},
   "source": [
    "### Regularizer value used across frameworks"
   ]
  },
  {
   "cell_type": "code",
   "execution_count": 38,
   "metadata": {},
   "outputs": [],
   "source": [
    "reg = 1.0"
   ]
  },
  {
   "cell_type": "markdown",
   "metadata": {},
   "source": [
    "## H. Train using scikit-learn\n",
    "Sklearn has support for sparse datasets, but training sklearn on the sparse format of the datasets is very slow thus we use the numpy array format of the datasets"
   ]
  },
  {
   "cell_type": "markdown",
   "metadata": {},
   "source": [
    "### &nbsp;&nbsp;Ridge Regression"
   ]
  },
  {
   "cell_type": "markdown",
   "metadata": {},
   "source": [
    "#### &nbsp;&nbsp;&nbsp;&nbsp;&nbsp;&nbsp; Train"
   ]
  },
  {
   "cell_type": "code",
   "execution_count": 39,
   "metadata": {},
   "outputs": [
    {
     "name": "stdout",
     "output_type": "stream",
     "text": [
      "[sklearn-ridge] Training time (s): 12.022\n"
     ]
    }
   ],
   "source": [
    "from sklearn.linear_model import Ridge\n",
    "skl_ridge = Ridge(fit_intercept=False, alpha=reg)\n",
    "\n",
    "t0 = time.time()\n",
    "skl_ridge.fit(X_train, y_train)\n",
    "skl_train_time_ridge = time.time()-t0\n",
    "print(\"[sklearn-ridge] Training time (s): {0:.3f}\".format(skl_train_time_ridge))"
   ]
  },
  {
   "cell_type": "markdown",
   "metadata": {},
   "source": [
    "#### &nbsp;&nbsp;&nbsp;&nbsp;&nbsp;&nbsp; Predict"
   ]
  },
  {
   "cell_type": "code",
   "execution_count": 40,
   "metadata": {},
   "outputs": [
    {
     "name": "stdout",
     "output_type": "stream",
     "text": [
      "[sklearn-ridge] Predict time (s): 1.298\n",
      "\n"
     ]
    }
   ],
   "source": [
    "t0 = time.time()\n",
    "y_pred  = skl_ridge.predict(X_test)\n",
    "skl_predict_time_ridge = time.time()-t0\n",
    "print(\"[sklearn-ridge] Predict time (s): {0:.3f}\\n\".format(skl_predict_time_ridge))"
   ]
  },
  {
   "cell_type": "markdown",
   "metadata": {},
   "source": [
    "#### &nbsp;&nbsp;&nbsp;&nbsp;&nbsp;&nbsp; Model evaluation"
   ]
  },
  {
   "cell_type": "code",
   "execution_count": 41,
   "metadata": {},
   "outputs": [
    {
     "name": "stdout",
     "output_type": "stream",
     "text": [
      "[sklearn-ridge] RMSE : 1.2890767\n",
      "[sklearn-ridge] R2 score : 0.7744372605295178\n"
     ]
    }
   ],
   "source": [
    "print(\"[sklearn-ridge] RMSE :\", np.sqrt(mean_squared_error(y_test, y_pred)))\n",
    "print(\"[sklearn-ridge] R2 score :\", r2_score(y_test, y_pred))"
   ]
  },
  {
   "cell_type": "markdown",
   "metadata": {},
   "source": [
    "### &nbsp;&nbsp;Logistic Regression"
   ]
  },
  {
   "cell_type": "markdown",
   "metadata": {},
   "source": [
    "#### &nbsp;&nbsp;&nbsp;&nbsp;&nbsp;&nbsp; Train"
   ]
  },
  {
   "cell_type": "code",
   "execution_count": 42,
   "metadata": {},
   "outputs": [
    {
     "name": "stdout",
     "output_type": "stream",
     "text": [
      "[sklearn-logreg] Training time (s): 34.482\n"
     ]
    }
   ],
   "source": [
    "from sklearn.linear_model import LogisticRegression\n",
    "skl_lor = LogisticRegression(fit_intercept=False, C=1.0/reg, dual=True, solver='liblinear')\n",
    "\n",
    "t0 = time.time()\n",
    "skl_lor.fit(X_train, y_train_bin)\n",
    "skl_train_time_lor = time.time()-t0\n",
    "print(\"[sklearn-logreg] Training time (s): {0:.3f}\".format(skl_train_time_lor))"
   ]
  },
  {
   "cell_type": "markdown",
   "metadata": {},
   "source": [
    "#### &nbsp;&nbsp;&nbsp;&nbsp;&nbsp;&nbsp; Predict"
   ]
  },
  {
   "cell_type": "code",
   "execution_count": 43,
   "metadata": {},
   "outputs": [
    {
     "name": "stdout",
     "output_type": "stream",
     "text": [
      "[sklearn-logreg] Predict time (s): 3.235\n"
     ]
    }
   ],
   "source": [
    "t0 = time.time()\n",
    "y_pred  = skl_lor.predict(X_test)\n",
    "skl_predict_time_lor = time.time()-t0\n",
    "print(\"[sklearn-logreg] Predict time (s): {0:.3f}\".format(skl_predict_time_lor))"
   ]
  },
  {
   "cell_type": "markdown",
   "metadata": {},
   "source": [
    "#### &nbsp;&nbsp;&nbsp;&nbsp;&nbsp;&nbsp; Model evaluation"
   ]
  },
  {
   "cell_type": "code",
   "execution_count": 44,
   "metadata": {},
   "outputs": [
    {
     "name": "stdout",
     "output_type": "stream",
     "text": [
      "[sklearn-logreg] Accuracy score : 0.7854910742327358\n"
     ]
    }
   ],
   "source": [
    "print(\"[sklearn-logreg] Accuracy score :\", accuracy_score(y_test_bin, y_pred))"
   ]
  },
  {
   "cell_type": "markdown",
   "metadata": {},
   "source": [
    "## I. Train using cuML"
   ]
  },
  {
   "cell_type": "markdown",
   "metadata": {},
   "source": [
    "### &nbsp;&nbsp;Ridge Regression"
   ]
  },
  {
   "cell_type": "markdown",
   "metadata": {},
   "source": [
    "#### &nbsp;&nbsp;&nbsp;&nbsp;&nbsp;&nbsp; Train"
   ]
  },
  {
   "cell_type": "code",
   "execution_count": 45,
   "metadata": {},
   "outputs": [
    {
     "name": "stdout",
     "output_type": "stream",
     "text": [
      "[cuML-ridge] Training time (s): 1.602\n"
     ]
    }
   ],
   "source": [
    "from cuml.linear_model import Ridge\n",
    "cuml_ridge = Ridge(fit_intercept=False, alpha=reg)\n",
    "\n",
    "t0 = time.time()\n",
    "cuml_ridge.fit(X_train_col_major, y_train)\n",
    "cuml_train_time_ridge = time.time()-t0\n",
    "print(\"[cuML-ridge] Training time (s): {0:.3f}\".format(cuml_train_time_ridge))"
   ]
  },
  {
   "cell_type": "markdown",
   "metadata": {},
   "source": [
    "#### &nbsp;&nbsp;&nbsp;&nbsp;&nbsp;&nbsp; Predict"
   ]
  },
  {
   "cell_type": "code",
   "execution_count": 46,
   "metadata": {},
   "outputs": [
    {
     "name": "stdout",
     "output_type": "stream",
     "text": [
      "[cuML-ridge] Predict time (s): 0.513\n",
      "\n"
     ]
    }
   ],
   "source": [
    "t0 = time.time()\n",
    "y_pred  = cuml_ridge.predict(X_test_col_major)\n",
    "cuml_predict_time_ridge = time.time()-t0\n",
    "print(\"[cuML-ridge] Predict time (s): {0:.3f}\\n\".format(cuml_predict_time_ridge))"
   ]
  },
  {
   "cell_type": "markdown",
   "metadata": {},
   "source": [
    "#### &nbsp;&nbsp;&nbsp;&nbsp;&nbsp;&nbsp; Model evaluation"
   ]
  },
  {
   "cell_type": "code",
   "execution_count": 47,
   "metadata": {},
   "outputs": [
    {
     "name": "stdout",
     "output_type": "stream",
     "text": [
      "[cuML-ridge] RMSE : 1.2853705\n",
      "[cuML-ridge] R2 score : 0.7757323738399636\n"
     ]
    }
   ],
   "source": [
    "# Convert predicted cudf.dataframe.series.Series to numpy.ndarray\n",
    "y_pred = y_pred.to_array()\n",
    "\n",
    "print(\"[cuML-ridge] RMSE :\", np.sqrt(mean_squared_error(y_test, y_pred)))\n",
    "print(\"[cuML-ridge] R2 score :\", r2_score(y_test, y_pred))"
   ]
  },
  {
   "cell_type": "markdown",
   "metadata": {},
   "source": [
    "### &nbsp;&nbsp;Logistic Regression"
   ]
  },
  {
   "cell_type": "markdown",
   "metadata": {},
   "source": [
    "#### &nbsp;&nbsp;&nbsp;&nbsp;&nbsp;&nbsp; Train"
   ]
  },
  {
   "cell_type": "code",
   "execution_count": 48,
   "metadata": {},
   "outputs": [
    {
     "name": "stdout",
     "output_type": "stream",
     "text": [
      "[cuML-logreg] Training time (s): 4.683\n"
     ]
    }
   ],
   "source": [
    "from cuml.linear_model import LogisticRegression\n",
    "cuml_lor = LogisticRegression(fit_intercept=False, C=X_train_col_major.shape[0]/reg, max_iter=100000, tol=1e-7)\n",
    "\n",
    "t0 = time.time()\n",
    "cuml_lor.fit(X_train_col_major, y_train_bin)\n",
    "cuml_train_time_lor = time.time()-t0\n",
    "print(\"[cuML-logreg] Training time (s): {0:.3f}\".format(cuml_train_time_lor))"
   ]
  },
  {
   "cell_type": "markdown",
   "metadata": {},
   "source": [
    "#### &nbsp;&nbsp;&nbsp;&nbsp;&nbsp;&nbsp; Predict"
   ]
  },
  {
   "cell_type": "code",
   "execution_count": 49,
   "metadata": {},
   "outputs": [
    {
     "name": "stdout",
     "output_type": "stream",
     "text": [
      "[cuML-logreg] Predict time (s): 0.503\n"
     ]
    }
   ],
   "source": [
    "t0 = time.time()\n",
    "y_pred  = cuml_lor.predict(X_test_col_major)\n",
    "cuml_predict_time_lor = time.time()-t0\n",
    "print(\"[cuML-logreg] Predict time (s): {0:.3f}\".format(cuml_predict_time_lor))"
   ]
  },
  {
   "cell_type": "markdown",
   "metadata": {},
   "source": [
    "#### &nbsp;&nbsp;&nbsp;&nbsp;&nbsp;&nbsp; Model evaluation"
   ]
  },
  {
   "cell_type": "code",
   "execution_count": 50,
   "metadata": {},
   "outputs": [
    {
     "name": "stdout",
     "output_type": "stream",
     "text": [
      "[cuML-logreg] Accuracy score : 0.7846985800010887\n"
     ]
    }
   ],
   "source": [
    "# Convert predicted cudf.dataframe.series.Series to numpy.ndarray\n",
    "y_pred = y_pred.to_array()\n",
    "\n",
    "print(\"[cuML-logreg] Accuracy score :\", accuracy_score(y_test_bin, y_pred))"
   ]
  },
  {
   "cell_type": "markdown",
   "metadata": {},
   "source": [
    "## J. Train using Snap ML"
   ]
  },
  {
   "cell_type": "markdown",
   "metadata": {},
   "source": [
    "### &nbsp;&nbsp;Ridge Regression"
   ]
  },
  {
   "cell_type": "markdown",
   "metadata": {},
   "source": [
    "#### &nbsp;&nbsp;&nbsp;&nbsp;&nbsp;&nbsp; Train"
   ]
  },
  {
   "cell_type": "code",
   "execution_count": 51,
   "metadata": {},
   "outputs": [
    {
     "name": "stdout",
     "output_type": "stream",
     "text": [
      "[Info] If set num_threads should be a multiple of 32. GPU training will run with num_threads=256.\n",
      "[Warning] Parameter device_ids not set. The training will run on GPU 0.\n",
      "[snapML-ridge] Training time (s): 1.336\n"
     ]
    }
   ],
   "source": [
    "from pai4sk import LinearRegression\n",
    "sml_ridge = LinearRegression(penalty=\"l2\", use_gpu=True, regularizer=reg, dual=True, fit_intercept=False)\n",
    "\n",
    "t0 = time.time()\n",
    "sml_ridge.fit(X_train_csr, y_train)\n",
    "sml_train_time_ridge = time.time()-t0\n",
    "print(\"[snapML-ridge] Training time (s): {0:.3f}\".format(sml_train_time_ridge))"
   ]
  },
  {
   "cell_type": "markdown",
   "metadata": {},
   "source": [
    "#### &nbsp;&nbsp;&nbsp;&nbsp;&nbsp;&nbsp; Predict"
   ]
  },
  {
   "cell_type": "code",
   "execution_count": 52,
   "metadata": {},
   "outputs": [
    {
     "name": "stdout",
     "output_type": "stream",
     "text": [
      "[snapML-ridge] Predict time (s): 0.064\n",
      "\n"
     ]
    }
   ],
   "source": [
    "t0 = time.time()\n",
    "y_pred  = sml_ridge.predict(X_test_csr)\n",
    "sml_predict_time_ridge = time.time()-t0\n",
    "print(\"[snapML-ridge] Predict time (s): {0:.3f}\\n\".format(sml_predict_time_ridge))"
   ]
  },
  {
   "cell_type": "markdown",
   "metadata": {},
   "source": [
    "#### &nbsp;&nbsp;&nbsp;&nbsp;&nbsp;&nbsp; Model evaluation"
   ]
  },
  {
   "cell_type": "code",
   "execution_count": 53,
   "metadata": {},
   "outputs": [
    {
     "name": "stdout",
     "output_type": "stream",
     "text": [
      "[snapML-ridge] RMSE : 1.2853008124674727\n",
      "[snapML-ridge] R2 score : 0.7757567188356053\n"
     ]
    }
   ],
   "source": [
    "print(\"[snapML-ridge] RMSE :\", np.sqrt(mean_squared_error(y_test, y_pred)))\n",
    "print(\"[snapML-ridge] R2 score :\", r2_score(y_test, y_pred))"
   ]
  },
  {
   "cell_type": "markdown",
   "metadata": {},
   "source": [
    "### &nbsp;&nbsp;Logistic Regression"
   ]
  },
  {
   "cell_type": "markdown",
   "metadata": {},
   "source": [
    "#### &nbsp;&nbsp;&nbsp;&nbsp;&nbsp;&nbsp; Train"
   ]
  },
  {
   "cell_type": "code",
   "execution_count": 54,
   "metadata": {},
   "outputs": [
    {
     "name": "stdout",
     "output_type": "stream",
     "text": [
      "[Info] If set num_threads should be a multiple of 32. GPU training will run with num_threads=256.\n",
      "[Warning] Parameter device_ids not set. The training will run on GPU 0.\n",
      "[snapML-logreg] Training time (s): 0.746\n"
     ]
    }
   ],
   "source": [
    "from pai4sk import LogisticRegression\n",
    "sml_lor = LogisticRegression(use_gpu=True, regularizer=reg, dual=True, fit_intercept=False, penalty='l2')\n",
    "\n",
    "t0 = time.time()\n",
    "sml_lor.fit(X_train_csr, y_train_bin)\n",
    "sml_train_time_lor = time.time()-t0\n",
    "print(\"[snapML-logreg] Training time (s): {0:.3f}\".format(sml_train_time_lor))"
   ]
  },
  {
   "cell_type": "markdown",
   "metadata": {},
   "source": [
    "#### &nbsp;&nbsp;&nbsp;&nbsp;&nbsp;&nbsp; Predict"
   ]
  },
  {
   "cell_type": "code",
   "execution_count": 55,
   "metadata": {},
   "outputs": [
    {
     "name": "stdout",
     "output_type": "stream",
     "text": [
      "[snapML-logreg] Predict time (s): 0.066\n"
     ]
    }
   ],
   "source": [
    "t0 = time.time()\n",
    "y_pred  = sml_lor.predict(X_test_csr)\n",
    "sml_predict_time_lor = time.time()-t0\n",
    "print(\"[snapML-logreg] Predict time (s): {0:.3f}\".format(sml_predict_time_lor))"
   ]
  },
  {
   "cell_type": "markdown",
   "metadata": {},
   "source": [
    "#### &nbsp;&nbsp;&nbsp;&nbsp;&nbsp;&nbsp; Model evaluation"
   ]
  },
  {
   "cell_type": "code",
   "execution_count": 56,
   "metadata": {},
   "outputs": [
    {
     "name": "stdout",
     "output_type": "stream",
     "text": [
      "[snapML-logreg] Accuracy score : 0.7856187945712575\n"
     ]
    }
   ],
   "source": [
    "print(\"[snapML-logreg] Accuracy score :\", accuracy_score(y_test_bin, y_pred))"
   ]
  },
  {
   "cell_type": "markdown",
   "metadata": {},
   "source": [
    "## K. Speedup summary\n",
    "<div class=\"alert alert-block alert-info\">\n",
    "The following results were obtained on an IBM Power AC922 server with NVIDIA Tesla V100 SXM2 32GB GPUs as mentioned in <a href='#System-Configuration'>System Configuration</a>.\n",
    "<br/>Speedup times may vary based on the system architecture, load and software package versions used.\n",
    "</div>"
   ]
  },
  {
   "cell_type": "markdown",
   "metadata": {},
   "source": [
    "### &nbsp;&nbsp;&nbsp;Ridge Regression"
   ]
  },
  {
   "cell_type": "code",
   "execution_count": 57,
   "metadata": {},
   "outputs": [
    {
     "name": "stdout",
     "output_type": "stream",
     "text": [
      "SnapML vs Sklearn training time speedup (Ridge) : 8.999992 \n",
      "CuML vs Sklearn training time speedup (Ridge) : 7.504729 \n",
      "\n",
      "SnapML vs Sklearn prediction time speedup (Ridge) : 20.231386 \n",
      "CuML vs Sklearn prediction time speedup (Ridge) : 2.532635 \n"
     ]
    }
   ],
   "source": [
    "# Training time\n",
    "print(\"SnapML vs Sklearn training time speedup (Ridge) : %f \" % (skl_train_time_ridge/sml_train_time_ridge))\n",
    "print(\"CuML vs Sklearn training time speedup (Ridge) : %f \\n\" % (skl_train_time_ridge/cuml_train_time_ridge))\n",
    "\n",
    "# Prediction time\n",
    "print(\"SnapML vs Sklearn prediction time speedup (Ridge) : %f \" % (skl_predict_time_ridge/sml_predict_time_ridge))\n",
    "print(\"CuML vs Sklearn prediction time speedup (Ridge) : %f \" % (skl_predict_time_ridge/cuml_predict_time_ridge))"
   ]
  },
  {
   "cell_type": "markdown",
   "metadata": {},
   "source": [
    "### &nbsp;&nbsp;&nbsp;Logistic Regression"
   ]
  },
  {
   "cell_type": "code",
   "execution_count": 58,
   "metadata": {},
   "outputs": [
    {
     "name": "stdout",
     "output_type": "stream",
     "text": [
      "SnapML vs Sklearn training time speedup (Logistic) : 46.207038 \n",
      "CuML vs Sklearn training time speedup (Logistic) : 7.362780 \n",
      "\n",
      "SnapML vs Sklearn prediction time speedup (Logistic) : 48.846235 \n",
      "CuML vs Sklearn prediction time speedup (Logistic) : 6.425519 \n"
     ]
    }
   ],
   "source": [
    "# Training time\n",
    "print(\"SnapML vs Sklearn training time speedup (Logistic) : %f \" % (skl_train_time_lor/sml_train_time_lor))\n",
    "print(\"CuML vs Sklearn training time speedup (Logistic) : %f \\n\" % (skl_train_time_lor/cuml_train_time_lor))\n",
    "\n",
    "# Prediction time\n",
    "print(\"SnapML vs Sklearn prediction time speedup (Logistic) : %f \" % (skl_predict_time_lor/sml_predict_time_lor))\n",
    "print(\"CuML vs Sklearn prediction time speedup (Logistic) : %f \" % (skl_predict_time_lor/cuml_predict_time_lor))"
   ]
  },
  {
   "cell_type": "markdown",
   "metadata": {},
   "source": [
    "## Useful Resources for SnapML\n",
    "<div class=\"alert alert-block alert-info\">\n",
    "\n",
    "1. <b>IBM WML-CE 1.6.2 Knowledge Center page for Snap ML</b> - https://www.ibm.com/support/knowledgecenter/en/SS5SF7_1.6.2/navigation/wmlce_getstarted_snapml.html\n",
    "<br/>\n",
    "2. <b>pai4sk(SnapML) API documentation</b> - https://ibmsoe.github.io/snap-ml-doc/\n",
    "<br/>\n",
    "3. <b>IBM Research page for Snap ML</b> - https://www.zurich.ibm.com/snapml/\n",
    "</div>"
   ]
  },
  {
   "cell_type": "markdown",
   "metadata": {},
   "source": [
    "<br/>"
   ]
  },
  {
   "cell_type": "markdown",
   "metadata": {},
   "source": [
    "<br/>"
   ]
  }
 ],
 "metadata": {
  "kernelspec": {
   "display_name": "Python 3",
   "language": "python",
   "name": "python3"
  },
  "language_info": {
   "codemirror_mode": {
    "name": "ipython",
    "version": 3
   },
   "file_extension": ".py",
   "mimetype": "text/x-python",
   "name": "python",
   "nbconvert_exporter": "python",
   "pygments_lexer": "ipython3",
   "version": "3.6.10"
  }
 },
 "nbformat": 4,
 "nbformat_minor": 2
}
